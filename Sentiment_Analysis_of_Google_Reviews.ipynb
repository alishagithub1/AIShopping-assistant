{
  "nbformat": 4,
  "nbformat_minor": 0,
  "metadata": {
    "colab": {
      "provenance": [],
      "include_colab_link": true
    },
    "kernelspec": {
      "name": "python3",
      "display_name": "Python 3"
    },
    "language_info": {
      "name": "python"
    }
  },
  "cells": [
    {
      "cell_type": "markdown",
      "metadata": {
        "id": "view-in-github",
        "colab_type": "text"
      },
      "source": [
        "<a href=\"https://colab.research.google.com/github/alishagithub1/AIShopping-assistant/blob/master/Sentiment_Analysis_of_Google_Reviews.ipynb\" target=\"_parent\"><img src=\"https://colab.research.google.com/assets/colab-badge.svg\" alt=\"Open In Colab\"/></a>"
      ]
    },
    {
      "cell_type": "code",
      "execution_count": null,
      "metadata": {
        "colab": {
          "base_uri": "https://localhost:8080/"
        },
        "id": "WYeyBz9KZDII",
        "outputId": "6d2d058a-2d2c-4c92-ead6-5303693d4c16"
      },
      "outputs": [
        {
          "output_type": "stream",
          "name": "stderr",
          "text": [
            "Downloading...\n",
            "From: https://drive.google.com/uc?id=1FZXoO3-sfFBol2UbQWtvaXDmaQZ0ZgkD\n",
            "To: /content/reviews.csv\n",
            "100%|██████████| 9.00M/9.00M [00:00<00:00, 107MB/s]\n"
          ]
        }
      ],
      "source": [
        "import gdown\n",
        "import pandas as pd\n",
        "\n",
        "# URL for the file from Google Drive\n",
        "file_url = 'https://drive.google.com/uc?id=1FZXoO3-sfFBol2UbQWtvaXDmaQZ0ZgkD'  # Replace with your actual file ID.\n",
        "\n",
        "# Download the file using gdown\n",
        "gdown.download(file_url, 'reviews.csv', quiet=False)\n",
        "\n",
        "# Now, read the file into a pandas DataFrame\n",
        "df = pd.read_csv('reviews.csv')\n",
        "\n"
      ]
    },
    {
      "cell_type": "code",
      "source": [
        "df.head()"
      ],
      "metadata": {
        "colab": {
          "base_uri": "https://localhost:8080/",
          "height": 503
        },
        "id": "Z_ui8tLmrzS3",
        "outputId": "4f76e13a-521a-4d3c-f4a3-42d0c4777932"
      },
      "execution_count": null,
      "outputs": [
        {
          "output_type": "execute_result",
          "data": {
            "text/plain": [
              "                                            reviewId          userName  \\\n",
              "0  gp:AOqpTOHNHm4OfbjkxEXXa51JwZEHAaDlvfSgN0OU256...             Lex S   \n",
              "1  gp:AOqpTOEujjLj56XVqumAkipImEqIAU3qTIuQjENPaOK...      Sam van Dijk   \n",
              "2  gp:AOqpTOElISilniODwd6UBrqFngzTtDHLF-G0VLpR2_y...      Hugo Bounoua   \n",
              "3  gp:AOqpTOEkZ75JR5CzVhxoxWa0XVmPanw_pEl1srcJ7yv...  Aishwarya Mishra   \n",
              "4  gp:AOqpTOEtpLcODD_NZOBqR1N7DBbaLdw3Gyz3v3xZAp1...     Mad Scientist   \n",
              "\n",
              "                                           userImage  \\\n",
              "0  https://lh3.googleusercontent.com/-FgDpDeEJLAw...   \n",
              "1  https://lh3.googleusercontent.com/-pO3wTIb4myA...   \n",
              "2  https://lh3.googleusercontent.com/a-/AOh14GgxG...   \n",
              "3  https://lh3.googleusercontent.com/a-/AOh14Ghhq...   \n",
              "4  https://lh3.googleusercontent.com/-kIZF4kMt6yY...   \n",
              "\n",
              "                                             content  score  thumbsUpCount  \\\n",
              "0  I love this app, but I do have one major gripe...      1              3   \n",
              "1  Trash. Yes, it has some nice nifty features bu...      1             25   \n",
              "2  OMG the UI is awful, seriously you have popup ...      1              8   \n",
              "3  I've been using the app for a while and since ...      1             20   \n",
              "4  Unable to register with an email. Clicking\"con...      1             77   \n",
              "\n",
              "  reviewCreatedVersion                   at  \\\n",
              "0             5.2.0.23  2020-08-05 16:22:04   \n",
              "1             5.2.0.23  2020-07-21 22:17:25   \n",
              "2             5.2.0.23  2020-07-22 07:23:35   \n",
              "3             5.2.0.23  2020-07-19 06:49:15   \n",
              "4              5.2.0.9  2020-07-10 17:59:22   \n",
              "\n",
              "                                        replyContent            repliedAt  \\\n",
              "0  Any.do is not only a product but also a servic...  2020-08-05 08:02:08   \n",
              "1  Premium users can edit, create and delete tags...  2020-07-23 15:57:51   \n",
              "2  The Premium ad only shows up when first openin...  2020-07-23 16:20:43   \n",
              "3  Hi, due to new restrictions from Google, the p...  2020-07-22 14:05:56   \n",
              "4  We are unaware of any issues with signing in t...  2020-07-12 08:02:19   \n",
              "\n",
              "       sortOrder      appId  \n",
              "0  most_relevant  com.anydo  \n",
              "1  most_relevant  com.anydo  \n",
              "2  most_relevant  com.anydo  \n",
              "3  most_relevant  com.anydo  \n",
              "4  most_relevant  com.anydo  "
            ],
            "text/html": [
              "\n",
              "  <div id=\"df-3e71a8c0-5920-4bc1-a117-0153610ab563\" class=\"colab-df-container\">\n",
              "    <div>\n",
              "<style scoped>\n",
              "    .dataframe tbody tr th:only-of-type {\n",
              "        vertical-align: middle;\n",
              "    }\n",
              "\n",
              "    .dataframe tbody tr th {\n",
              "        vertical-align: top;\n",
              "    }\n",
              "\n",
              "    .dataframe thead th {\n",
              "        text-align: right;\n",
              "    }\n",
              "</style>\n",
              "<table border=\"1\" class=\"dataframe\">\n",
              "  <thead>\n",
              "    <tr style=\"text-align: right;\">\n",
              "      <th></th>\n",
              "      <th>reviewId</th>\n",
              "      <th>userName</th>\n",
              "      <th>userImage</th>\n",
              "      <th>content</th>\n",
              "      <th>score</th>\n",
              "      <th>thumbsUpCount</th>\n",
              "      <th>reviewCreatedVersion</th>\n",
              "      <th>at</th>\n",
              "      <th>replyContent</th>\n",
              "      <th>repliedAt</th>\n",
              "      <th>sortOrder</th>\n",
              "      <th>appId</th>\n",
              "    </tr>\n",
              "  </thead>\n",
              "  <tbody>\n",
              "    <tr>\n",
              "      <th>0</th>\n",
              "      <td>gp:AOqpTOHNHm4OfbjkxEXXa51JwZEHAaDlvfSgN0OU256...</td>\n",
              "      <td>Lex S</td>\n",
              "      <td>https://lh3.googleusercontent.com/-FgDpDeEJLAw...</td>\n",
              "      <td>I love this app, but I do have one major gripe...</td>\n",
              "      <td>1</td>\n",
              "      <td>3</td>\n",
              "      <td>5.2.0.23</td>\n",
              "      <td>2020-08-05 16:22:04</td>\n",
              "      <td>Any.do is not only a product but also a servic...</td>\n",
              "      <td>2020-08-05 08:02:08</td>\n",
              "      <td>most_relevant</td>\n",
              "      <td>com.anydo</td>\n",
              "    </tr>\n",
              "    <tr>\n",
              "      <th>1</th>\n",
              "      <td>gp:AOqpTOEujjLj56XVqumAkipImEqIAU3qTIuQjENPaOK...</td>\n",
              "      <td>Sam van Dijk</td>\n",
              "      <td>https://lh3.googleusercontent.com/-pO3wTIb4myA...</td>\n",
              "      <td>Trash. Yes, it has some nice nifty features bu...</td>\n",
              "      <td>1</td>\n",
              "      <td>25</td>\n",
              "      <td>5.2.0.23</td>\n",
              "      <td>2020-07-21 22:17:25</td>\n",
              "      <td>Premium users can edit, create and delete tags...</td>\n",
              "      <td>2020-07-23 15:57:51</td>\n",
              "      <td>most_relevant</td>\n",
              "      <td>com.anydo</td>\n",
              "    </tr>\n",
              "    <tr>\n",
              "      <th>2</th>\n",
              "      <td>gp:AOqpTOElISilniODwd6UBrqFngzTtDHLF-G0VLpR2_y...</td>\n",
              "      <td>Hugo Bounoua</td>\n",
              "      <td>https://lh3.googleusercontent.com/a-/AOh14GgxG...</td>\n",
              "      <td>OMG the UI is awful, seriously you have popup ...</td>\n",
              "      <td>1</td>\n",
              "      <td>8</td>\n",
              "      <td>5.2.0.23</td>\n",
              "      <td>2020-07-22 07:23:35</td>\n",
              "      <td>The Premium ad only shows up when first openin...</td>\n",
              "      <td>2020-07-23 16:20:43</td>\n",
              "      <td>most_relevant</td>\n",
              "      <td>com.anydo</td>\n",
              "    </tr>\n",
              "    <tr>\n",
              "      <th>3</th>\n",
              "      <td>gp:AOqpTOEkZ75JR5CzVhxoxWa0XVmPanw_pEl1srcJ7yv...</td>\n",
              "      <td>Aishwarya Mishra</td>\n",
              "      <td>https://lh3.googleusercontent.com/a-/AOh14Ghhq...</td>\n",
              "      <td>I've been using the app for a while and since ...</td>\n",
              "      <td>1</td>\n",
              "      <td>20</td>\n",
              "      <td>5.2.0.23</td>\n",
              "      <td>2020-07-19 06:49:15</td>\n",
              "      <td>Hi, due to new restrictions from Google, the p...</td>\n",
              "      <td>2020-07-22 14:05:56</td>\n",
              "      <td>most_relevant</td>\n",
              "      <td>com.anydo</td>\n",
              "    </tr>\n",
              "    <tr>\n",
              "      <th>4</th>\n",
              "      <td>gp:AOqpTOEtpLcODD_NZOBqR1N7DBbaLdw3Gyz3v3xZAp1...</td>\n",
              "      <td>Mad Scientist</td>\n",
              "      <td>https://lh3.googleusercontent.com/-kIZF4kMt6yY...</td>\n",
              "      <td>Unable to register with an email. Clicking\"con...</td>\n",
              "      <td>1</td>\n",
              "      <td>77</td>\n",
              "      <td>5.2.0.9</td>\n",
              "      <td>2020-07-10 17:59:22</td>\n",
              "      <td>We are unaware of any issues with signing in t...</td>\n",
              "      <td>2020-07-12 08:02:19</td>\n",
              "      <td>most_relevant</td>\n",
              "      <td>com.anydo</td>\n",
              "    </tr>\n",
              "  </tbody>\n",
              "</table>\n",
              "</div>\n",
              "    <div class=\"colab-df-buttons\">\n",
              "\n",
              "  <div class=\"colab-df-container\">\n",
              "    <button class=\"colab-df-convert\" onclick=\"convertToInteractive('df-3e71a8c0-5920-4bc1-a117-0153610ab563')\"\n",
              "            title=\"Convert this dataframe to an interactive table.\"\n",
              "            style=\"display:none;\">\n",
              "\n",
              "  <svg xmlns=\"http://www.w3.org/2000/svg\" height=\"24px\" viewBox=\"0 -960 960 960\">\n",
              "    <path d=\"M120-120v-720h720v720H120Zm60-500h600v-160H180v160Zm220 220h160v-160H400v160Zm0 220h160v-160H400v160ZM180-400h160v-160H180v160Zm440 0h160v-160H620v160ZM180-180h160v-160H180v160Zm440 0h160v-160H620v160Z\"/>\n",
              "  </svg>\n",
              "    </button>\n",
              "\n",
              "  <style>\n",
              "    .colab-df-container {\n",
              "      display:flex;\n",
              "      gap: 12px;\n",
              "    }\n",
              "\n",
              "    .colab-df-convert {\n",
              "      background-color: #E8F0FE;\n",
              "      border: none;\n",
              "      border-radius: 50%;\n",
              "      cursor: pointer;\n",
              "      display: none;\n",
              "      fill: #1967D2;\n",
              "      height: 32px;\n",
              "      padding: 0 0 0 0;\n",
              "      width: 32px;\n",
              "    }\n",
              "\n",
              "    .colab-df-convert:hover {\n",
              "      background-color: #E2EBFA;\n",
              "      box-shadow: 0px 1px 2px rgba(60, 64, 67, 0.3), 0px 1px 3px 1px rgba(60, 64, 67, 0.15);\n",
              "      fill: #174EA6;\n",
              "    }\n",
              "\n",
              "    .colab-df-buttons div {\n",
              "      margin-bottom: 4px;\n",
              "    }\n",
              "\n",
              "    [theme=dark] .colab-df-convert {\n",
              "      background-color: #3B4455;\n",
              "      fill: #D2E3FC;\n",
              "    }\n",
              "\n",
              "    [theme=dark] .colab-df-convert:hover {\n",
              "      background-color: #434B5C;\n",
              "      box-shadow: 0px 1px 3px 1px rgba(0, 0, 0, 0.15);\n",
              "      filter: drop-shadow(0px 1px 2px rgba(0, 0, 0, 0.3));\n",
              "      fill: #FFFFFF;\n",
              "    }\n",
              "  </style>\n",
              "\n",
              "    <script>\n",
              "      const buttonEl =\n",
              "        document.querySelector('#df-3e71a8c0-5920-4bc1-a117-0153610ab563 button.colab-df-convert');\n",
              "      buttonEl.style.display =\n",
              "        google.colab.kernel.accessAllowed ? 'block' : 'none';\n",
              "\n",
              "      async function convertToInteractive(key) {\n",
              "        const element = document.querySelector('#df-3e71a8c0-5920-4bc1-a117-0153610ab563');\n",
              "        const dataTable =\n",
              "          await google.colab.kernel.invokeFunction('convertToInteractive',\n",
              "                                                    [key], {});\n",
              "        if (!dataTable) return;\n",
              "\n",
              "        const docLinkHtml = 'Like what you see? Visit the ' +\n",
              "          '<a target=\"_blank\" href=https://colab.research.google.com/notebooks/data_table.ipynb>data table notebook</a>'\n",
              "          + ' to learn more about interactive tables.';\n",
              "        element.innerHTML = '';\n",
              "        dataTable['output_type'] = 'display_data';\n",
              "        await google.colab.output.renderOutput(dataTable, element);\n",
              "        const docLink = document.createElement('div');\n",
              "        docLink.innerHTML = docLinkHtml;\n",
              "        element.appendChild(docLink);\n",
              "      }\n",
              "    </script>\n",
              "  </div>\n",
              "\n",
              "\n",
              "<div id=\"df-441fb04b-ebda-4a47-824e-f39022f86dae\">\n",
              "  <button class=\"colab-df-quickchart\" onclick=\"quickchart('df-441fb04b-ebda-4a47-824e-f39022f86dae')\"\n",
              "            title=\"Suggest charts\"\n",
              "            style=\"display:none;\">\n",
              "\n",
              "<svg xmlns=\"http://www.w3.org/2000/svg\" height=\"24px\"viewBox=\"0 0 24 24\"\n",
              "     width=\"24px\">\n",
              "    <g>\n",
              "        <path d=\"M19 3H5c-1.1 0-2 .9-2 2v14c0 1.1.9 2 2 2h14c1.1 0 2-.9 2-2V5c0-1.1-.9-2-2-2zM9 17H7v-7h2v7zm4 0h-2V7h2v10zm4 0h-2v-4h2v4z\"/>\n",
              "    </g>\n",
              "</svg>\n",
              "  </button>\n",
              "\n",
              "<style>\n",
              "  .colab-df-quickchart {\n",
              "      --bg-color: #E8F0FE;\n",
              "      --fill-color: #1967D2;\n",
              "      --hover-bg-color: #E2EBFA;\n",
              "      --hover-fill-color: #174EA6;\n",
              "      --disabled-fill-color: #AAA;\n",
              "      --disabled-bg-color: #DDD;\n",
              "  }\n",
              "\n",
              "  [theme=dark] .colab-df-quickchart {\n",
              "      --bg-color: #3B4455;\n",
              "      --fill-color: #D2E3FC;\n",
              "      --hover-bg-color: #434B5C;\n",
              "      --hover-fill-color: #FFFFFF;\n",
              "      --disabled-bg-color: #3B4455;\n",
              "      --disabled-fill-color: #666;\n",
              "  }\n",
              "\n",
              "  .colab-df-quickchart {\n",
              "    background-color: var(--bg-color);\n",
              "    border: none;\n",
              "    border-radius: 50%;\n",
              "    cursor: pointer;\n",
              "    display: none;\n",
              "    fill: var(--fill-color);\n",
              "    height: 32px;\n",
              "    padding: 0;\n",
              "    width: 32px;\n",
              "  }\n",
              "\n",
              "  .colab-df-quickchart:hover {\n",
              "    background-color: var(--hover-bg-color);\n",
              "    box-shadow: 0 1px 2px rgba(60, 64, 67, 0.3), 0 1px 3px 1px rgba(60, 64, 67, 0.15);\n",
              "    fill: var(--button-hover-fill-color);\n",
              "  }\n",
              "\n",
              "  .colab-df-quickchart-complete:disabled,\n",
              "  .colab-df-quickchart-complete:disabled:hover {\n",
              "    background-color: var(--disabled-bg-color);\n",
              "    fill: var(--disabled-fill-color);\n",
              "    box-shadow: none;\n",
              "  }\n",
              "\n",
              "  .colab-df-spinner {\n",
              "    border: 2px solid var(--fill-color);\n",
              "    border-color: transparent;\n",
              "    border-bottom-color: var(--fill-color);\n",
              "    animation:\n",
              "      spin 1s steps(1) infinite;\n",
              "  }\n",
              "\n",
              "  @keyframes spin {\n",
              "    0% {\n",
              "      border-color: transparent;\n",
              "      border-bottom-color: var(--fill-color);\n",
              "      border-left-color: var(--fill-color);\n",
              "    }\n",
              "    20% {\n",
              "      border-color: transparent;\n",
              "      border-left-color: var(--fill-color);\n",
              "      border-top-color: var(--fill-color);\n",
              "    }\n",
              "    30% {\n",
              "      border-color: transparent;\n",
              "      border-left-color: var(--fill-color);\n",
              "      border-top-color: var(--fill-color);\n",
              "      border-right-color: var(--fill-color);\n",
              "    }\n",
              "    40% {\n",
              "      border-color: transparent;\n",
              "      border-right-color: var(--fill-color);\n",
              "      border-top-color: var(--fill-color);\n",
              "    }\n",
              "    60% {\n",
              "      border-color: transparent;\n",
              "      border-right-color: var(--fill-color);\n",
              "    }\n",
              "    80% {\n",
              "      border-color: transparent;\n",
              "      border-right-color: var(--fill-color);\n",
              "      border-bottom-color: var(--fill-color);\n",
              "    }\n",
              "    90% {\n",
              "      border-color: transparent;\n",
              "      border-bottom-color: var(--fill-color);\n",
              "    }\n",
              "  }\n",
              "</style>\n",
              "\n",
              "  <script>\n",
              "    async function quickchart(key) {\n",
              "      const quickchartButtonEl =\n",
              "        document.querySelector('#' + key + ' button');\n",
              "      quickchartButtonEl.disabled = true;  // To prevent multiple clicks.\n",
              "      quickchartButtonEl.classList.add('colab-df-spinner');\n",
              "      try {\n",
              "        const charts = await google.colab.kernel.invokeFunction(\n",
              "            'suggestCharts', [key], {});\n",
              "      } catch (error) {\n",
              "        console.error('Error during call to suggestCharts:', error);\n",
              "      }\n",
              "      quickchartButtonEl.classList.remove('colab-df-spinner');\n",
              "      quickchartButtonEl.classList.add('colab-df-quickchart-complete');\n",
              "    }\n",
              "    (() => {\n",
              "      let quickchartButtonEl =\n",
              "        document.querySelector('#df-441fb04b-ebda-4a47-824e-f39022f86dae button');\n",
              "      quickchartButtonEl.style.display =\n",
              "        google.colab.kernel.accessAllowed ? 'block' : 'none';\n",
              "    })();\n",
              "  </script>\n",
              "</div>\n",
              "\n",
              "    </div>\n",
              "  </div>\n"
            ],
            "application/vnd.google.colaboratory.intrinsic+json": {
              "type": "dataframe",
              "variable_name": "df",
              "summary": "{\n  \"name\": \"df\",\n  \"rows\": 16092,\n  \"fields\": [\n    {\n      \"column\": \"reviewId\",\n      \"properties\": {\n        \"dtype\": \"string\",\n        \"num_unique_values\": 11034,\n        \"samples\": [\n          \"gp:AOqpTOF5LwQJX_C0vJJ5K7yutTjlf-tdEIKv0b_Sw7Qneh03eZpPsHUp_J3xICXkVC7lJUwdMEum0j3T-Bh4Cbs\",\n          \"gp:AOqpTOFW5SCs3nFI2FwvmkuO491dcTpYTLYaY6w8sN02Uk-TSA91m0YO3GcvWg5LDQlxFkD1TMQ28OFJCdG_1A\",\n          \"gp:AOqpTOH_bNBCd6wxRo6W1-CyFwkVNQmDyVdzu-_3BtnUHj4JmRlhWehZHvR-ctaJhF7OW_1Gs6mmH6NryaQ96g\"\n        ],\n        \"semantic_type\": \"\",\n        \"description\": \"\"\n      }\n    },\n    {\n      \"column\": \"userName\",\n      \"properties\": {\n        \"dtype\": \"string\",\n        \"num_unique_values\": 10495,\n        \"samples\": [\n          \"\\u30cf\\u30b7\\u30fc\\u30d6\\u02d1 \\u30a2\\u30af\\u30e9\\u30e0\",\n          \"eSports Lover\",\n          \"Rahul Parashar\"\n        ],\n        \"semantic_type\": \"\",\n        \"description\": \"\"\n      }\n    },\n    {\n      \"column\": \"userImage\",\n      \"properties\": {\n        \"dtype\": \"string\",\n        \"num_unique_values\": 10549,\n        \"samples\": [\n          \"https://lh3.googleusercontent.com/a-/AOh14GgL3XD5Vn1K15-m8luUAOGwHLEiCeC153wAHr4N8A\",\n          \"https://lh3.googleusercontent.com/a-/AOh14GiPuSYcbH8xoZkFht4-wZ_P7FMdbGf4gfPOySxBjg\",\n          \"https://lh3.googleusercontent.com/a-/AOh14GgvsseLzRb1qlgtkHAjREpOZSnnXmg-WNDDISYk\"\n        ],\n        \"semantic_type\": \"\",\n        \"description\": \"\"\n      }\n    },\n    {\n      \"column\": \"content\",\n      \"properties\": {\n        \"dtype\": \"string\",\n        \"num_unique_values\": 10663,\n        \"samples\": [\n          \"dependant on another calendar app. Why? why do I need to have another app to use this app? I can't add plans or schedule without this app throwing the task to Google Calendar. Besides, I don't use G.C anymore since I once missed an event which I put a reminder through the G.C app because it never reminded me. I read one comment for this app that it never gave a reminder for a scheduled task and yes I have an idea why it happened.\",\n          \"Honestly, it's by far the most useful app you could possibly find that offers so many things without a ridiculous price tag. Having access to all the major for free is incredible and ,unlike other apps, doesn't ram \\\"Upgrade to premium now\\\" messages. I personally find it useful for keeping on track with hobbies such as writing books, as on can easily track the things I need to do. I would highly recommend this app because it's easy to use and is not intrusive like other apps.\",\n          \"Really good app\"\n        ],\n        \"semantic_type\": \"\",\n        \"description\": \"\"\n      }\n    },\n    {\n      \"column\": \"score\",\n      \"properties\": {\n        \"dtype\": \"number\",\n        \"std\": 1,\n        \"min\": 1,\n        \"max\": 5,\n        \"num_unique_values\": 5,\n        \"samples\": [\n          2,\n          5,\n          3\n        ],\n        \"semantic_type\": \"\",\n        \"description\": \"\"\n      }\n    },\n    {\n      \"column\": \"thumbsUpCount\",\n      \"properties\": {\n        \"dtype\": \"number\",\n        \"std\": 17,\n        \"min\": 0,\n        \"max\": 446,\n        \"num_unique_values\": 148,\n        \"samples\": [\n          97,\n          30,\n          122\n        ],\n        \"semantic_type\": \"\",\n        \"description\": \"\"\n      }\n    },\n    {\n      \"column\": \"reviewCreatedVersion\",\n      \"properties\": {\n        \"dtype\": \"category\",\n        \"num_unique_values\": 475,\n        \"samples\": [\n          \"1.31\",\n          \"2.30.1\",\n          \"4.16.6.2\"\n        ],\n        \"semantic_type\": \"\",\n        \"description\": \"\"\n      }\n    },\n    {\n      \"column\": \"at\",\n      \"properties\": {\n        \"dtype\": \"object\",\n        \"num_unique_values\": 11033,\n        \"samples\": [\n          \"2020-05-20 23:22:24\",\n          \"2020-03-21 11:17:37\",\n          \"2020-07-23 05:50:43\"\n        ],\n        \"semantic_type\": \"\",\n        \"description\": \"\"\n      }\n    },\n    {\n      \"column\": \"replyContent\",\n      \"properties\": {\n        \"dtype\": \"category\",\n        \"num_unique_values\": 4311,\n        \"samples\": [\n          \"Hi Joey. Keep in mind that TimeTune is basically a routine manager. The calendar sync option is not necessary to use the app. However, the project is still evolving and this might change in the future. Thanks.\",\n          \"Hi, \\nIs there anything we can help you with? Feel free to contact us at android.support@forestapp.cc specifying the issues you have encountered. We are more than glad to assist you with your focus journey! :)\\n- Forest\",\n          \"Hi, the import/export feature is integrated for calendars, task lists , birthdays and app & widget settings.\"\n        ],\n        \"semantic_type\": \"\",\n        \"description\": \"\"\n      }\n    },\n    {\n      \"column\": \"repliedAt\",\n      \"properties\": {\n        \"dtype\": \"object\",\n        \"num_unique_values\": 5205,\n        \"samples\": [\n          \"2020-01-27 08:56:28\",\n          \"2020-07-22 14:16:51\",\n          \"2020-07-22 08:29:59\"\n        ],\n        \"semantic_type\": \"\",\n        \"description\": \"\"\n      }\n    },\n    {\n      \"column\": \"sortOrder\",\n      \"properties\": {\n        \"dtype\": \"category\",\n        \"num_unique_values\": 2,\n        \"samples\": [\n          \"newest\",\n          \"most_relevant\"\n        ],\n        \"semantic_type\": \"\",\n        \"description\": \"\"\n      }\n    },\n    {\n      \"column\": \"appId\",\n      \"properties\": {\n        \"dtype\": \"category\",\n        \"num_unique_values\": 15,\n        \"samples\": [\n          \"prox.lab.calclock\",\n          \"com.artfulagenda.app\"\n        ],\n        \"semantic_type\": \"\",\n        \"description\": \"\"\n      }\n    }\n  ]\n}"
            }
          },
          "metadata": {},
          "execution_count": 3
        }
      ]
    },
    {
      "cell_type": "markdown",
      "source": [
        "# EDA"
      ],
      "metadata": {
        "id": "75xTScG9tMys"
      }
    },
    {
      "cell_type": "code",
      "source": [
        "import matplotlib.pyplot as plt\n",
        "\n",
        "# Plot the distribution of the 'score' column\n",
        "plt.figure(figsize=(8, 6))\n",
        "df['score'].value_counts().sort_index().plot(kind='bar', color='skyblue')\n",
        "plt.title('Distribution of Scores')\n",
        "plt.xlabel('Score')\n",
        "plt.ylabel('Count')\n",
        "plt.xticks(rotation=0)\n",
        "plt.grid(axis='y', linestyle='--', alpha=0.7)\n",
        "plt.show()\n"
      ],
      "metadata": {
        "colab": {
          "base_uri": "https://localhost:8080/",
          "height": 564
        },
        "id": "8xq3DNxnsSdu",
        "outputId": "08053456-76dd-49d9-aa5f-ee7145928f5c"
      },
      "execution_count": null,
      "outputs": [
        {
          "output_type": "display_data",
          "data": {
            "text/plain": [
              "<Figure size 800x600 with 1 Axes>"
            ],
            "image/png": "[encoded data removed]"
          },
          "metadata": {}
        }
      ]
    },
    {
      "cell_type": "code",
      "source": [
        "# Step 3: Map scores to sentiment (1, 2 = negative; 3 = neutral; 4, 5 = positive)\n",
        "def map_score_to_sentiment(score):\n",
        "    if score in [1, 2]:\n",
        "        return 'negative'\n",
        "    elif score == 3:\n",
        "        return 'neutral'\n",
        "    else:\n",
        "        return 'positive'\n",
        "\n",
        "df['sentiment'] = df['score'].apply(map_score_to_sentiment)\n",
        "\n",
        "# Step 4: Sentiment distribution\n",
        "print(\"\\nSentiment distribution:\")\n",
        "print(df['sentiment'].value_counts())\n",
        "\n",
        "# Plot the sentiment distribution\n",
        "plt.figure(figsize=(8, 6))\n",
        "df['sentiment'].value_counts().plot(kind='bar', color='coral')\n",
        "plt.title('Sentiment Distribution')\n",
        "plt.xlabel('Sentiment')\n",
        "plt.ylabel('Count')\n",
        "plt.xticks(rotation=0)\n",
        "plt.grid(axis='y', linestyle='--', alpha=0.7)\n",
        "plt.show()"
      ],
      "metadata": {
        "colab": {
          "base_uri": "https://localhost:8080/",
          "height": 686
        },
        "id": "x6wNzMjAtWj4",
        "outputId": "11375f49-c964-4c49-80b4-ba8db79d8b8f"
      },
      "execution_count": null,
      "outputs": [
        {
          "output_type": "stream",
          "name": "stdout",
          "text": [
            "\n",
            "Sentiment distribution:\n",
            "sentiment\n",
            "positive    5754\n",
            "negative    5188\n",
            "neutral     5150\n",
            "Name: count, dtype: int64\n"
          ]
        },
        {
          "output_type": "display_data",
          "data": {
            "text/plain": [
              "<Figure size 800x600 with 1 Axes>"
            ],
            "image/png": "[encoded data removed]"
          },
          "metadata": {}
        }
      ]
    },
    {
      "cell_type": "markdown",
      "source": [
        "## ML Algo"
      ],
      "metadata": {
        "id": "ACXllyxmwnfV"
      }
    },
    {
      "cell_type": "code",
      "source": [
        "import pandas as pd\n",
        "import string\n",
        "from nltk.corpus import stopwords\n",
        "from nltk.stem import PorterStemmer, WordNetLemmatizer\n",
        "from sklearn.feature_extraction.text import TfidfVectorizer\n",
        "from sklearn.naive_bayes import MultinomialNB\n",
        "from sklearn.pipeline import Pipeline\n",
        "from sklearn.model_selection import train_test_split\n",
        "import nltk\n",
        "\n",
        "# Ensure necessary nltk data is downloaded\n",
        "nltk.download('stopwords')\n",
        "nltk.download('wordnet')\n",
        "\n",
        "# Load the data\n",
        "df = pd.read_csv('reviews.csv')\n",
        "\n",
        "# Map the scores to sentiment categories\n",
        "def map_score_to_sentiment(score):\n",
        "    if score in [1, 2]:\n",
        "        return 'negative'\n",
        "    elif score == 3:\n",
        "        return 'neutral'\n",
        "    else:\n",
        "        return 'positive'\n",
        "\n",
        "df['sentiment'] = df['score'].apply(map_score_to_sentiment)\n",
        "\n",
        "# Preprocess the content (lowercase, remove punctuation, stemming, lemmatization)\n",
        "stop_words = set(stopwords.words('english'))\n",
        "stemmer = PorterStemmer()\n",
        "lemmatizer = WordNetLemmatizer()\n",
        "\n",
        "def preprocess_text(text):\n",
        "    # Lowercase\n",
        "    text = text.lower()\n",
        "\n",
        "    # Remove punctuation\n",
        "    text = text.translate(str.maketrans('', '', string.punctuation))\n",
        "\n",
        "    # Tokenize and remove stopwords\n",
        "    tokens = [word for word in text.split() if word not in stop_words]\n",
        "\n",
        "    # Stemming and Lemmatization\n",
        "    tokens = [stemmer.stem(word) for word in tokens]  # Stemming\n",
        "    tokens = [lemmatizer.lemmatize(word) for word in tokens]  # Lemmatization\n",
        "\n",
        "    # Rejoin tokens to form the processed string\n",
        "    return ' '.join(tokens)\n",
        "\n",
        "# Apply preprocessing\n",
        "df['processed_content'] = df['content'].apply(preprocess_text)\n",
        "\n",
        "# Step 1: Create the pipeline\n",
        "pipeline = Pipeline([\n",
        "    ('tfidf', TfidfVectorizer(max_features=5000)),  # Feature extraction using TF-IDF\n",
        "    ('classifier', MultinomialNB())  # Naive Bayes classifier\n",
        "])\n",
        "\n",
        "# Step 2: Split the data\n",
        "X_train, X_test, y_train, y_test = train_test_split(df['processed_content'], df['sentiment'], test_size=0.2, random_state=42)\n",
        "\n",
        "# Step 3: Train the model using the pipeline\n",
        "pipeline.fit(X_train, y_train)\n",
        "\n",
        "# Step 4: Define a function that uses the pipeline to predict sentiment for a given sentence\n",
        "def predict_sentiment(sentence):\n",
        "    # Preprocess the input sentence\n",
        "    processed_sentence = preprocess_text(sentence)\n",
        "    # Predict sentiment using the trained pipeline\n",
        "    prediction = pipeline.predict([processed_sentence])[0]\n",
        "    return prediction\n",
        "\n"
      ],
      "metadata": {
        "colab": {
          "base_uri": "https://localhost:8080/"
        },
        "id": "-qeEwmBGtsNT",
        "outputId": "3950e180-2011-43e4-91cf-0da49034f106"
      },
      "execution_count": null,
      "outputs": [
        {
          "output_type": "stream",
          "name": "stderr",
          "text": [
            "[nltk_data] Downloading package stopwords to /root/nltk_data...\n",
            "[nltk_data]   Unzipping corpora/stopwords.zip.\n",
            "[nltk_data] Downloading package wordnet to /root/nltk_data...\n"
          ]
        }
      ]
    },
    {
      "cell_type": "code",
      "source": [
        "# Example usage\n",
        "sentence = input(\"Enter the Review\")\n",
        "# I love this app! It's so useful and easy to use.\n",
        "# I hate this app! It's so bad and difficult to use.\n",
        "print(f\"Sentiment: {predict_sentiment(sentence)}\")\n",
        "# I love the way you are teaching\n",
        "# never buy this product waste of money\n"
      ],
      "metadata": {
        "colab": {
          "base_uri": "https://localhost:8080/"
        },
        "id": "JM4vWl4kw96w",
        "outputId": "c62a9fec-5c71-40ae-93a1-eddd927122e9"
      },
      "execution_count": null,
      "outputs": [
        {
          "output_type": "stream",
          "name": "stdout",
          "text": [
            "Enter the Reviewnever buy this product waste of money\n",
            "Sentiment: negative\n"
          ]
        }
      ]
    },
    {
      "cell_type": "markdown",
      "source": [
        "# GenAI"
      ],
      "metadata": {
        "id": "5VhldzYI1A-N"
      }
    },
    {
      "cell_type": "code",
      "source": [
        "api_key = \"\""
      ],
      "metadata": {
        "id": "Ht8Hv6j4xGIJ"
      },
      "execution_count": null,
      "outputs": []
    },
    {
      "cell_type": "code",
      "source": [
        "import google.generativeai as genai\n",
        "import json"
      ],
      "metadata": {
        "id": "hXKVBWc22A-G"
      },
      "execution_count": null,
      "outputs": []
    },
    {
      "cell_type": "code",
      "source": [
        "genai.configure(api_key = \"\")"
      ],
      "metadata": {
        "id": "9qFwFV382HnX"
      },
      "execution_count": null,
      "outputs": []
    },
    {
      "cell_type": "code",
      "source": [
        "def get_gemini_repsonse(input):\n",
        "    model=genai.GenerativeModel('gemini-pro')\n",
        "    response=model.generate_content(input)\n",
        "    return response.text"
      ],
      "metadata": {
        "id": "XlXHdx-r2V6U"
      },
      "execution_count": null,
      "outputs": []
    },
    {
      "cell_type": "code",
      "source": [
        "get_gemini_repsonse(\"Hi\")"
      ],
      "metadata": {
        "colab": {
          "base_uri": "https://localhost:8080/",
          "height": 35
        },
        "id": "6HQhr4Ce2XnF",
        "outputId": "0d9cf3b5-229b-467a-c358-06896e466dd4"
      },
      "execution_count": null,
      "outputs": [
        {
          "output_type": "execute_result",
          "data": {
            "text/plain": [
              "'Hello there! How can I assist you today?'"
            ],
            "application/vnd.google.colaboratory.intrinsic+json": {
              "type": "string"
            }
          },
          "metadata": {},
          "execution_count": 15
        }
      ]
    },
    {
      "cell_type": "code",
      "source": [
        "def build_prompt(text):\n",
        "    input_prompt=f\"\"\"\n",
        "    Analyze the sentiment of the following text.\n",
        "    The sentiment should be classified as one of the following:\n",
        "    'positive', 'neutral', or 'negative'. Provide the sentiment.\n",
        "\n",
        "    Text:{text}\n",
        "\n",
        "    I want the response in one single string having the structure\n",
        "    {{\"sentiment\":\"%\"}}\n",
        "    \"\"\"\n",
        "    return input_prompt"
      ],
      "metadata": {
        "id": "eLsZlaWA2lma"
      },
      "execution_count": null,
      "outputs": []
    },
    {
      "cell_type": "code",
      "source": [
        "sentence = input(\"Enter the Review \\n\")"
      ],
      "metadata": {
        "colab": {
          "base_uri": "https://localhost:8080/"
        },
        "id": "yJCiOU3G22wr",
        "outputId": "edd3e197-b95e-4d33-b7b7-12c00d263804"
      },
      "execution_count": null,
      "outputs": [
        {
          "name": "stdout",
          "output_type": "stream",
          "text": [
            "Enter the Review \n",
            "My name is Avijit\n"
          ]
        }
      ]
    },
    {
      "cell_type": "code",
      "source": [
        "# this is something i truly love about scaler. Masterclasses is helpful and everyone can learn many topics. This is mindblowing\n",
        "\n",
        "sentence"
      ],
      "metadata": {
        "colab": {
          "base_uri": "https://localhost:8080/",
          "height": 35
        },
        "id": "RyETRnlC27HK",
        "outputId": "d906e339-04ed-4d0a-94d0-5adcf6714f21"
      },
      "execution_count": null,
      "outputs": [
        {
          "output_type": "execute_result",
          "data": {
            "text/plain": [
              "'My name is Avijit'"
            ],
            "application/vnd.google.colaboratory.intrinsic+json": {
              "type": "string"
            }
          },
          "metadata": {},
          "execution_count": 34
        }
      ]
    },
    {
      "cell_type": "code",
      "source": [
        "input_prompt = build_prompt(sentence)"
      ],
      "metadata": {
        "id": "DCz3MVuj3NjT"
      },
      "execution_count": null,
      "outputs": []
    },
    {
      "cell_type": "code",
      "source": [
        "print(input_prompt)"
      ],
      "metadata": {
        "colab": {
          "base_uri": "https://localhost:8080/"
        },
        "id": "wZfuIFHN3VYX",
        "outputId": "9c717c72-2d8e-47cc-921e-d91e31dcdf92"
      },
      "execution_count": null,
      "outputs": [
        {
          "output_type": "stream",
          "name": "stdout",
          "text": [
            "\n",
            "    Analyze the sentiment of the following text. \n",
            "    The sentiment should be classified as one of the following: \n",
            "    'positive', 'neutral', or 'negative'. Provide the sentiment.\n",
            "\n",
            "    Text:My name is Avijit\n",
            "\n",
            "    I want the response in one single string having the structure\n",
            "    {\"sentiment\":\"%\"}\n",
            "    \n"
          ]
        }
      ]
    },
    {
      "cell_type": "code",
      "source": [
        "response=get_gemini_repsonse(input_prompt)\n",
        "response"
      ],
      "metadata": {
        "colab": {
          "base_uri": "https://localhost:8080/",
          "height": 35
        },
        "id": "mq1u1jMQ3XRn",
        "outputId": "e5332022-7917-4df6-82b9-4d0dd60a31d5"
      },
      "execution_count": null,
      "outputs": [
        {
          "output_type": "execute_result",
          "data": {
            "text/plain": [
              "'{\"sentiment\":\"neutral\"}'"
            ],
            "application/vnd.google.colaboratory.intrinsic+json": {
              "type": "string"
            }
          },
          "metadata": {},
          "execution_count": 37
        }
      ]
    },
    {
      "cell_type": "code",
      "source": [],
      "metadata": {
        "id": "HI8w_aLH3g3o"
      },
      "execution_count": null,
      "outputs": []
    }
  ]
}